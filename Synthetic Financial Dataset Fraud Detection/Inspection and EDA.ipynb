{
 "cells": [
  {
   "cell_type": "code",
   "execution_count": 1,
   "metadata": {
    "collapsed": true
   },
   "outputs": [],
   "source": [
    "%matplotlib inline\n",
    "\n",
    "import numpy as np\n",
    "import pandas as pd\n",
    "import matplotlib.pyplot as plt\n",
    "import seaborn as sns"
   ]
  },
  {
   "cell_type": "code",
   "execution_count": 2,
   "metadata": {
    "collapsed": true
   },
   "outputs": [],
   "source": [
    "filename= 'PS_20174392719_1491204439457_log.csv'\n",
    "DT = pd.read_csv(filename)"
   ]
  },
  {
   "cell_type": "markdown",
   "metadata": {},
   "source": [
    "### Data Inspection"
   ]
  },
  {
   "cell_type": "code",
   "execution_count": 29,
   "metadata": {
    "collapsed": false
   },
   "outputs": [
    {
     "name": "stdout",
     "output_type": "stream",
     "text": [
      "<class 'pandas.core.frame.DataFrame'>\n",
      "RangeIndex: 6362620 entries, 0 to 6362619\n",
      "Data columns (total 11 columns):\n",
      "step              int64\n",
      "type              object\n",
      "amount            float64\n",
      "nameOrig          object\n",
      "oldbalanceOrg     float64\n",
      "newbalanceOrig    float64\n",
      "nameDest          object\n",
      "oldbalanceDest    float64\n",
      "newbalanceDest    float64\n",
      "isFraud           int64\n",
      "isFlaggedFraud    int64\n",
      "dtypes: float64(5), int64(3), object(3)\n",
      "memory usage: 534.0+ MB\n",
      "\n",
      "Dataset Contains Null Values: False\n"
     ]
    }
   ],
   "source": [
    "DT.info()\n",
    "DT.head(10)\n",
    "\n",
    "print('')\n",
    "print('Dataset Contains Null Values: %r' % DT.isnull().values.any())"
   ]
  },
  {
   "cell_type": "markdown",
   "metadata": {},
   "source": [
    "### Exploratory Data Analysis & Data Cleaning\n",
    "\n",
    "**Data Variable:** Step\n",
    "- It is unlikely that the ***step*** field is of any significant value. It appears to be a monotonically increasing numerical value for the vast majority of the dataset, which is typical of numeric ID of the transaction or the amount of time since the first data entry. "
   ]
  },
  {
   "cell_type": "code",
   "execution_count": 10,
   "metadata": {
    "collapsed": false
   },
   "outputs": [
    {
     "data": {
      "image/png": "[encoded data removed]",
      "text/plain": [
       "<matplotlib.figure.Figure at 0x10a6d2d68>"
      ]
     },
     "metadata": {},
     "output_type": "display_data"
    },
    {
     "data": {
      "text/plain": [
       "count    6.362620e+06\n",
       "mean     2.433972e+02\n",
       "std      1.423320e+02\n",
       "min      1.000000e+00\n",
       "25%      1.560000e+02\n",
       "50%      2.390000e+02\n",
       "75%      3.350000e+02\n",
       "max      7.430000e+02\n",
       "Name: step, dtype: float64"
      ]
     },
     "execution_count": 10,
     "metadata": {},
     "output_type": "execute_result"
    }
   ],
   "source": [
    "DT['step'].plot()\n",
    "plt.ylabel('Step')\n",
    "plt.show()\n",
    "\n",
    "DT['step'].describe()"
   ]
  },
  {
   "cell_type": "markdown",
   "metadata": {},
   "source": [
    "**Data Variables:** Origin Account (nameOrig) and Destination Account (nameDest)\n",
    "- The unique numbers of ***nameOrig*** and ***nameDest*** are less than the total number recorded transactions. This indicates that a subset of both account types have multiple recorded transactions within the dataset. \n",
    "\n",
    "- It should be noted that it is possible that there are accounts that are not shared between the 2 account types. This pattern would likely be characteristic of a real dataset."
   ]
  },
  {
   "cell_type": "code",
   "execution_count": 17,
   "metadata": {
    "collapsed": false
   },
   "outputs": [
    {
     "name": "stdout",
     "output_type": "stream",
     "text": [
      "Total Documented Transactions: 6362620\n",
      "Number of Unique Origin Accounts: 6353307\n",
      "Number of Unique Destination Accounts: 2722362\n"
     ]
    }
   ],
   "source": [
    "print('Total Documented Transactions: %d' % len(DT['nameOrig']))\n",
    "print('Number of Unique Origin Accounts: %d' % len(DT['nameOrig'].unique()))\n",
    "print('Number of Unique Destination Accounts: %d' % len(DT['nameDest'].unique()))"
   ]
  },
  {
   "cell_type": "markdown",
   "metadata": {},
   "source": [
    "**Data Variables:** type , amount, oldbalanceOrg, newbalanceOrig, oldbalanceDest, newbalanceDest\n",
    "- There are prominent interactions between these fields because of the natures of the transactions. \n",
    "- Once ***type*** is specified, the changes in the balances of the accounts are uniquely determined by the amount of money that is ***paid***, ***transferred***, ***cashed out***, ***cashed in***, or charged to ***debit***.\n",
    "\n",
    "\n",
    "- The only information the balance fields provide that is unique to each transaction is the initial money level in the accounts before the transaction occurs. Based on this, it may be useful to eliminate the '*newbalance*' fields."
   ]
  },
  {
   "cell_type": "code",
   "execution_count": 20,
   "metadata": {
    "collapsed": false
   },
   "outputs": [
    {
     "name": "stdout",
     "output_type": "stream",
     "text": [
      "['PAYMENT' 'TRANSFER' 'CASH_OUT' 'DEBIT' 'CASH_IN']\n"
     ]
    }
   ],
   "source": [
    "print(DT['type'].unique())"
   ]
  },
  {
   "cell_type": "code",
   "execution_count": null,
   "metadata": {
    "collapsed": true
   },
   "outputs": [],
   "source": []
  },
  {
   "cell_type": "code",
   "execution_count": null,
   "metadata": {
    "collapsed": true
   },
   "outputs": [],
   "source": []
  },
  {
   "cell_type": "code",
   "execution_count": null,
   "metadata": {
    "collapsed": true
   },
   "outputs": [],
   "source": []
  }
 ],
 "metadata": {
  "anaconda-cloud": {},
  "kernelspec": {
   "display_name": "Python [default]",
   "language": "python",
   "name": "python3"
  },
  "language_info": {
   "codemirror_mode": {
    "name": "ipython",
    "version": 3
   },
   "file_extension": ".py",
   "mimetype": "text/x-python",
   "name": "python",
   "nbconvert_exporter": "python",
   "pygments_lexer": "ipython3",
   "version": "3.5.2"
  }
 },
 "nbformat": 4,
 "nbformat_minor": 1
}
