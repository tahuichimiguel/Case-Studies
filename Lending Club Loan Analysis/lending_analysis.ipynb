{
 "cells": [
  {
   "cell_type": "code",
   "execution_count": 1,
   "metadata": {
    "collapsed": true
   },
   "outputs": [],
   "source": [
    "%matplotlib inline\n",
    "import pandas as pd\n",
    "import seaborn as sns\n",
    "import matplotlib.pyplot as plt\n"
   ]
  },
  {
   "cell_type": "code",
   "execution_count": 2,
   "metadata": {
    "collapsed": false
   },
   "outputs": [
    {
     "name": "stderr",
     "output_type": "stream",
     "text": [
      "//anaconda/lib/python3.5/site-packages/IPython/core/interactiveshell.py:2717: DtypeWarning: Columns (19,55) have mixed types. Specify dtype option on import or set low_memory=False.\n",
      "  interactivity=interactivity, compiler=compiler, result=result)\n"
     ]
    },
    {
     "data": {
      "text/plain": [
       "(887379, 73)"
      ]
     },
     "execution_count": 2,
     "metadata": {},
     "output_type": "execute_result"
    }
   ],
   "source": [
    "DT_raw=pd.read_csv('loan.csv',index_col=0)\n",
    "DT_raw.shape"
   ]
  },
  {
   "cell_type": "code",
   "execution_count": 3,
   "metadata": {
    "collapsed": false
   },
   "outputs": [
    {
     "name": "stdout",
     "output_type": "stream",
     "text": [
      "['Fully Paid' 'Charged Off' 'Current' 'Default' 'Late (31-120 days)'\n",
      " 'In Grace Period' 'Late (16-30 days)'\n",
      " 'Does not meet the credit policy. Status:Fully Paid'\n",
      " 'Does not meet the credit policy. Status:Charged Off' 'Issued']\n",
      "(761, 73)\n",
      "(1988, 73)\n"
     ]
    },
    {
     "data": {
      "text/plain": [
       "0.0030978871485577188"
      ]
     },
     "execution_count": 3,
     "metadata": {},
     "output_type": "execute_result"
    }
   ],
   "source": [
    "print(DT_raw['loan_status'].unique())\n",
    "print(DT_raw[DT_raw['loan_status']=='Does not meet the credit policy. Status:Charged Off'].shape)\n",
    "print(DT_raw[DT_raw['loan_status']=='Does not meet the credit policy. Status:Fully Paid'].shape)\n",
    "(761+1988)/DT_raw.shape[0]"
   ]
  },
  {
   "cell_type": "markdown",
   "metadata": {
    "collapsed": true
   },
   "source": [
    "### Evaluation 1: Differentiate between Fully Paid & Charged Off Loans ( Ex Post Facto Analysis)\n",
    "- Determine if **data collected before loan approval** can be used to accurately predict \n",
    "- Loans that are not recorded as either 'Fully Paid' or 'Charged Off' are omitted\n",
    "\n",
    "#### Predictors of Interest\n",
    "Quantitative data\n",
    "Qualitative data with fixed number of levels"
   ]
  },
  {
   "cell_type": "code",
   "execution_count": 11,
   "metadata": {
    "collapsed": true
   },
   "outputs": [],
   "source": [
    "eval1_covars = ['addr_state','annual_inc','annual_inc_joint',\n",
    "                'dti','dti_joint','emp_length','fico_range_low',\n",
    "                'fico_range_high','funded_amnt','funded_amnt_inv',\n",
    "               'home_ownership','installment','int_rate',\n",
    "               'last_fico_range_low','last_fico_range_high','inq_fi','loan_status']"
   ]
  },
  {
   "cell_type": "code",
   "execution_count": 12,
   "metadata": {
    "collapsed": false
   },
   "outputs": [
    {
     "data": {
      "text/plain": [
       "(252971, 17)"
      ]
     },
     "execution_count": 12,
     "metadata": {},
     "output_type": "execute_result"
    }
   ],
   "source": [
    "include_indx=(DT_raw['loan_status']=='Fully Paid') | (DT_raw['loan_status']=='Charged Off')\n",
    "DT_eval1 = DT_raw.loc[include_indx, eval1_covars]\n",
    "DT_eval1.shape"
   ]
  },
  {
   "cell_type": "code",
   "execution_count": 13,
   "metadata": {
    "collapsed": false
   },
   "outputs": [
    {
     "data": {
      "text/plain": [
       "<matplotlib.axes._subplots.AxesSubplot at 0x1179aeba8>"
      ]
     },
     "execution_count": 13,
     "metadata": {},
     "output_type": "execute_result"
    },
    {
     "data": {
      "image/png": "[encoded data removed]",
      "text/plain": [
       "<matplotlib.figure.Figure at 0x1179b97b8>"
      ]
     },
     "metadata": {},
     "output_type": "display_data"
    }
   ],
   "source": [
    "sns.violinplot(data = DT_eval1,x='loan_status',y='annual_inc',hue = 'loan_status')\n"
   ]
  },
  {
   "cell_type": "code",
   "execution_count": null,
   "metadata": {
    "collapsed": true
   },
   "outputs": [],
   "source": []
  }
 ],
 "metadata": {
  "anaconda-cloud": {},
  "kernelspec": {
   "display_name": "Python [default]",
   "language": "python",
   "name": "python3"
  },
  "language_info": {
   "codemirror_mode": {
    "name": "ipython",
    "version": 3
   },
   "file_extension": ".py",
   "mimetype": "text/x-python",
   "name": "python",
   "nbconvert_exporter": "python",
   "pygments_lexer": "ipython3",
   "version": "3.5.2"
  }
 },
 "nbformat": 4,
 "nbformat_minor": 1
}
