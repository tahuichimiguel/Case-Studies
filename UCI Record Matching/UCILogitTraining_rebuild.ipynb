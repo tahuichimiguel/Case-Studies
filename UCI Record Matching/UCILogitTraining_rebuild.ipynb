{
 "cells": [
  {
   "cell_type": "code",
   "execution_count": 37,
   "metadata": {
    "collapsed": true
   },
   "outputs": [],
   "source": [
    "%matplotlib inline\n",
    "import numpy as np\n",
    "import pandas as pd\n",
    "import matplotlib.pyplot as plt\n",
    "import matplotlib.cm as cm\n",
    "\n",
    "#sklearn - Machine Learning Package\n",
    "import sklearn.model_selection as modsel\n",
    "from sklearn import metrics\n",
    "from sklearn.metrics import classification_report\n",
    "from sklearn.ensemble import GradientBoostingClassifier\n",
    "\n",
    "#statsmodels - traditional statistical modeling package\n",
    "import statsmodels.api as sm\n",
    "\n",
    "import cPickle as pickle"
   ]
  },
  {
   "cell_type": "markdown",
   "metadata": {},
   "source": [
    "### Load & Inspect Data"
   ]
  },
  {
   "cell_type": "code",
   "execution_count": 38,
   "metadata": {},
   "outputs": [
    {
     "name": "stdout",
     "output_type": "stream",
     "text": [
      "Dimensions: 574913 records x 12 features.\n",
      "Unique Feature Data Types: 3\n",
      " -> int64\n",
      " -> float64\n",
      " -> bool\n",
      "\n",
      "NULL Entries: 7 \n",
      "NULL Entries Set To -1\n",
      "<class 'pandas.core.frame.DataFrame'>\n",
      "RangeIndex: 574913 entries, 0 to 574912\n",
      "Data columns (total 12 columns):\n",
      "id_1            574913 non-null int64\n",
      "id_2            574913 non-null int64\n",
      "cmp_fname_c1    574913 non-null float64\n",
      "cmp_fname_c2    574913 non-null float64\n",
      "cmp_lname_c1    574913 non-null float64\n",
      "cmp_lname_c2    574913 non-null float64\n",
      "cmp_sex         574913 non-null int64\n",
      "cmp_bd          574913 non-null float64\n",
      "cmp_bm          574913 non-null float64\n",
      "cmp_by          574913 non-null float64\n",
      "cmp_plz         574913 non-null float64\n",
      "is_match        574913 non-null bool\n",
      "dtypes: bool(1), float64(8), int64(3)\n",
      "memory usage: 48.8 MB\n",
      "None\n"
     ]
    }
   ],
   "source": [
    "filename = 'block_1.csv'\n",
    "DT = pd.read_csv(filename,na_values='?')\n",
    "\n",
    "####\n",
    "# Data Inspection\n",
    "# - Total Number of Records and Features\n",
    "# - Unique Feature Data Types\n",
    "# - Presence of Null Entries\n",
    "####\n",
    "\n",
    "print('Dimensions: %s records x %s features.' % DT.shape)\n",
    "\n",
    "print('Unique Feature Data Types: %s' % len(DT.dtypes.unique()))\n",
    "for x in DT.dtypes.unique():\n",
    "    print(' -> '+str(x))\n",
    "\n",
    "null_idx = DT.isnull().any().values\n",
    "null_idx = null_idx[null_idx==True]\n",
    "print('')\n",
    "print('NULL Entries: %s ' % len(null_idx))\n",
    "\n",
    "if len(null_idx>0):\n",
    "    DT =DT.fillna(value = -1)\n",
    "    print('NULL Entries Set To %s' % (-1))\n",
    "\n",
    "#if(len(null_idx)>0):\n",
    "#    for x in null_idx:\n",
    "#        if(DT.iloc[:,x].isnull()):\n",
    "#            print(' - ' + str(x) + ' has %s NULL entries' % len(DT[x].isnull()))\n",
    "#del null_idx\n",
    "\n",
    "print(DT.info())"
   ]
  },
  {
   "cell_type": "markdown",
   "metadata": {},
   "source": [
    "### Split Data into Training and Test Sets"
   ]
  },
  {
   "cell_type": "code",
   "execution_count": 47,
   "metadata": {
    "collapsed": true
   },
   "outputs": [],
   "source": [
    "#Proportion of Data Used for Test Set\n",
    "prop_test = 0.2\n",
    "\n",
    "cols = ['cmp_fname_c1','cmp_fname_c2', 'cmp_lname_c1', 'cmp_lname_c2',\n",
    "              'cmp_bd', 'cmp_bm', 'cmp_by', 'cmp_plz']\n",
    "\n",
    "str_output = 'is_match'\n",
    "\n",
    "#Create Train & Test Sets\n",
    "X_train, X_test, y_train, y_test = modsel.train_test_split( DT[cols],\n",
    "                                                            DT[str_output],\n",
    "                                                            test_size=prop_test, \n",
    "                                                            random_state=1234)\n",
    "X_train = sm.add_constant(X_train,prepend=False)\n",
    "X_test = sm.add_constant(X_test,prepend=False)"
   ]
  },
  {
   "cell_type": "markdown",
   "metadata": {},
   "source": [
    "### Initialize & Train Model Objects"
   ]
  },
  {
   "cell_type": "code",
   "execution_count": 52,
   "metadata": {},
   "outputs": [
    {
     "name": "stdout",
     "output_type": "stream",
     "text": [
      "                 Generalized Linear Model Regression Results                  \n",
      "==============================================================================\n",
      "Dep. Variable:               is_match   No. Observations:               459930\n",
      "Model:                            GLM   Df Residuals:                   459921\n",
      "Model Family:                Binomial   Df Model:                            8\n",
      "Link Function:                  logit   Scale:                             1.0\n",
      "Method:                          IRLS   Log-Likelihood:                -49.412\n",
      "Date:                Thu, 22 Jun 2017   Deviance:                       98.825\n",
      "Time:                        10:05:54   Pearson chi2:                 1.14e+06\n",
      "No. Iterations:                    16                                         \n",
      "================================================================================\n",
      "                   coef    std err          z      P>|z|      [0.025      0.975]\n",
      "--------------------------------------------------------------------------------\n",
      "cmp_fname_c1     6.2225      0.840      7.409      0.000       4.576       7.869\n",
      "cmp_fname_c2     0.1051      1.732      0.061      0.952      -3.290       3.500\n",
      "cmp_lname_c1    13.6973      1.337     10.247      0.000      11.077      16.317\n",
      "cmp_lname_c2     1.2411      1.324      0.937      0.349      -1.354       3.836\n",
      "cmp_bd           6.3141      1.163      5.430      0.000       4.035       8.593\n",
      "cmp_bm           5.3147      1.202      4.420      0.000       2.958       7.671\n",
      "cmp_by           5.9877      1.059      5.653      0.000       3.912       8.064\n",
      "cmp_plz          5.4012      0.845      6.391      0.000       3.745       7.058\n",
      "const          -31.7008      3.668     -8.644      0.000     -38.889     -24.512\n",
      "================================================================================\n"
     ]
    }
   ],
   "source": [
    "# Traditional Logit Model\n",
    "np.random.seed(1234)\n",
    "model_logit = sm.GLM( y_train,X_train,family=sm.families.Binomial())\n",
    "model_logit=model_logit.fit()\n",
    "\n",
    "print(model_logit.summary())"
   ]
  },
  {
   "cell_type": "markdown",
   "metadata": {},
   "source": [
    "### Test Set Model Validation - AUC"
   ]
  },
  {
   "cell_type": "code",
   "execution_count": 53,
   "metadata": {},
   "outputs": [
    {
     "data": {
      "image/png": "[encoded data removed]",
      "text/plain": [
       "<matplotlib.figure.Figure at 0x11cad4f10>"
      ]
     },
     "metadata": {},
     "output_type": "display_data"
    }
   ],
   "source": [
    "test_probs = model_logit.predict(X_test)\n",
    "\n",
    "#Calculate FPR and TPR for Difference Thresholds\n",
    "fpr, tpr,thresh = metrics.roc_curve(y_true=y_test,y_score = test_probs)\n",
    "\n",
    "#Calculate AUC for ROC\n",
    "auc = metrics.roc_auc_score(y_true=y_test,y_score = test_probs)\n",
    "\n",
    "plt.figure(figsize=(9,6))\n",
    "plt.plot(fpr, tpr, lw=2,color='blue', label='ROC curve (area = %0.9f)' % auc)\n",
    "\n",
    "plt.plot([0, 1], [0, 1], color='black', lw=2, linestyle='--')\n",
    "plt.xlim([0.0, 1.0])\n",
    "plt.ylim([0.0, 1.05])\n",
    "plt.xlabel('False Positive Rate')\n",
    "plt.ylabel('True Positive Rate')\n",
    "plt.title('Logit Test Set Receiver Operating Characteristic')\n",
    "plt.legend(loc=\"lower right\")\n",
    "plt.show()\n"
   ]
  },
  {
   "cell_type": "markdown",
   "metadata": {},
   "source": [
    "### Save Model"
   ]
  },
  {
   "cell_type": "code",
   "execution_count": 54,
   "metadata": {
    "collapsed": true
   },
   "outputs": [],
   "source": [
    "logit_file = 'UCI_logit_model_rebuild.pkl'\n",
    "pickle.dump(model_logit,open(logit_file, \"wb\"))"
   ]
  },
  {
   "cell_type": "code",
   "execution_count": null,
   "metadata": {
    "collapsed": true
   },
   "outputs": [],
   "source": []
  }
 ],
 "metadata": {
  "kernelspec": {
   "display_name": "Python 2",
   "language": "python",
   "name": "python2"
  },
  "language_info": {
   "codemirror_mode": {
    "name": "ipython",
    "version": 2
   },
   "file_extension": ".py",
   "mimetype": "text/x-python",
   "name": "python",
   "nbconvert_exporter": "python",
   "pygments_lexer": "ipython2",
   "version": "2.7.13"
  }
 },
 "nbformat": 4,
 "nbformat_minor": 2
}
